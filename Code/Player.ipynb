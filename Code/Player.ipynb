{
 "cells": [
  {
   "cell_type": "code",
   "execution_count": 4,
   "metadata": {},
   "outputs": [],
   "source": [
    "import numpy as np\n",
    "import pandas as pd\n",
    "import matplotlib.pyplot as plt\n",
    "# 设置字体大小\n",
    "plt.rcParams['font.size'] = 20\n"
   ]
  },
  {
   "cell_type": "code",
   "execution_count": 5,
   "metadata": {},
   "outputs": [
    {
     "name": "stdout",
     "output_type": "stream",
     "text": [
      "              match_id         player1        player2 elapsed_time  set_no  \\\n",
      "0  2023-wimbledon-1301  Carlos Alcaraz  Nicolas Jarry     00:00:00       1   \n",
      "1  2023-wimbledon-1301  Carlos Alcaraz  Nicolas Jarry     00:00:38       1   \n",
      "2  2023-wimbledon-1301  Carlos Alcaraz  Nicolas Jarry     00:01:01       1   \n",
      "3  2023-wimbledon-1301  Carlos Alcaraz  Nicolas Jarry     00:01:31       1   \n",
      "4  2023-wimbledon-1301  Carlos Alcaraz  Nicolas Jarry     00:02:21       1   \n",
      "\n",
      "   game_no  point_no  p1_sets  p2_sets  p1_games  ...  p2_break_pt_won  \\\n",
      "0        1         1        0        0         0  ...                0   \n",
      "1        1         2        0        0         0  ...                0   \n",
      "2        1         3        0        0         0  ...                0   \n",
      "3        1         4        0        0         0  ...                0   \n",
      "4        1         5        0        0         0  ...                0   \n",
      "\n",
      "  p1_break_pt_missed p2_break_pt_missed  p1_distance_run  p2_distance_run  \\\n",
      "0                  0                  0            6.000            7.840   \n",
      "1                  0                  0            5.253            7.094   \n",
      "2                  0                  0           13.800           19.808   \n",
      "3                  0                  0           51.108           75.631   \n",
      "4                  0                  0            0.649            0.813   \n",
      "\n",
      "   rally_count  speed_mph  serve_width  serve_depth  return_depth  \n",
      "0            2       95.0           BC         NCTL            ND  \n",
      "1            1      118.0            B          CTL            ND  \n",
      "2            4      120.0            B         NCTL             D  \n",
      "3           13      130.0           BW          CTL             D  \n",
      "4            1      112.0            W         NCTL           NaN  \n",
      "\n",
      "[5 rows x 46 columns]\n"
     ]
    }
   ],
   "source": [
    "data_path = r'..\\Question\\Wimbledon_featured_matches.csv'\n",
    "data = pd.read_csv(data_path)\n",
    "print(data.head())"
   ]
  },
  {
   "cell_type": "code",
   "execution_count": 6,
   "metadata": {},
   "outputs": [
    {
     "name": "stdout",
     "output_type": "stream",
     "text": [
      "match_id\n",
      "2023-wimbledon-1301    300\n",
      "2023-wimbledon-1302    201\n",
      "2023-wimbledon-1303    134\n",
      "2023-wimbledon-1304    337\n",
      "2023-wimbledon-1305    246\n",
      "2023-wimbledon-1306    332\n",
      "2023-wimbledon-1307    232\n",
      "2023-wimbledon-1308    190\n",
      "2023-wimbledon-1309    213\n",
      "2023-wimbledon-1310    318\n",
      "2023-wimbledon-1311    170\n",
      "2023-wimbledon-1312    275\n",
      "2023-wimbledon-1313    290\n",
      "2023-wimbledon-1314    185\n",
      "2023-wimbledon-1315    198\n",
      "2023-wimbledon-1316    167\n",
      "2023-wimbledon-1401    225\n",
      "2023-wimbledon-1402    274\n",
      "2023-wimbledon-1403    122\n",
      "2023-wimbledon-1404    286\n",
      "2023-wimbledon-1405    215\n",
      "2023-wimbledon-1406    195\n",
      "2023-wimbledon-1407    331\n",
      "2023-wimbledon-1408    271\n",
      "2023-wimbledon-1501    189\n",
      "2023-wimbledon-1502    283\n",
      "2023-wimbledon-1503    193\n",
      "2023-wimbledon-1504    217\n",
      "2023-wimbledon-1601    159\n",
      "2023-wimbledon-1602    202\n",
      "2023-wimbledon-1701    334\n",
      "dtype: int64\n"
     ]
    }
   ],
   "source": [
    "# 按match_id分组\n",
    "grouped = data.groupby('match_id')\n",
    "print(grouped.size())"
   ]
  },
  {
   "cell_type": "code",
   "execution_count": 19,
   "metadata": {},
   "outputs": [],
   "source": [
    "def analyse_all_match(all_match):\n",
    "    # 统计所有球员的姓名\n",
    "    player1 = all_match['player1']\n",
    "    player2 = all_match['player2']\n",
    "    player = pd.concat([player1, player2], axis=0)\n",
    "    # 取唯一值\n",
    "    player = player.unique()\n",
    "    # 字典序\n",
    "    player.sort()\n",
    "    player2index = {name: i for i, name in enumerate(player)}\n",
    "    # 构建胜负矩阵\n",
    "    win_matrix = np.zeros((len(player), len(player)))\n",
    "    lose_matrix = np.zeros((len(player), len(player)))\n",
    "    # 遍历每场比赛\n",
    "    for match_id, match in all_match.groupby('match_id'):\n",
    "        # 获取比赛结果\n",
    "        player1 = match['player1'].values[0]\n",
    "        player2 = match['player2'].values[0]\n",
    "        win_index = match['point_victor'].values[0]\n",
    "        winner_index = player2index[player1] if win_index == 1 else player2index[player2]\n",
    "        loser_index = player2index[player1] if win_index == 2 else player2index[player2]\n",
    "        # 更新胜负矩阵\n",
    "        win_matrix[winner_index, loser_index] += 1\n",
    "        lose_matrix[loser_index, winner_index] += 1\n",
    "    return win_matrix, lose_matrix, player\n",
    "win_matrix, lose_matrix, player = analyse_all_match(data)"
   ]
  },
  {
   "cell_type": "code",
   "execution_count": 25,
   "metadata": {},
   "outputs": [
    {
     "name": "stderr",
     "output_type": "stream",
     "text": [
      "C:\\Users\\cheng\\AppData\\Local\\Temp\\ipykernel_142688\\3225885265.py:6: RuntimeWarning: divide by zero encountered in log\n",
      "  likelihood += win_matrix[i, j] * np.log(gamma[i] / (gamma[i] + gamma[j]))\n",
      "C:\\Users\\cheng\\AppData\\Local\\Temp\\ipykernel_142688\\3225885265.py:6: RuntimeWarning: invalid value encountered in scalar multiply\n",
      "  likelihood += win_matrix[i, j] * np.log(gamma[i] / (gamma[i] + gamma[j]))\n",
      "C:\\Users\\cheng\\AppData\\Local\\Temp\\ipykernel_142688\\3225885265.py:6: RuntimeWarning: invalid value encountered in scalar divide\n",
      "  likelihood += win_matrix[i, j] * np.log(gamma[i] / (gamma[i] + gamma[j]))\n",
      "C:\\Users\\cheng\\AppData\\Local\\Temp\\ipykernel_142688\\3225885265.py:23: RuntimeWarning: invalid value encountered in divide\n",
      "  sum_ = np.sum(N / gamma_sum)\n"
     ]
    },
    {
     "data": {
      "text/plain": [
       "[<matplotlib.lines.Line2D at 0x1e11c664e90>]"
      ]
     },
     "execution_count": 25,
     "metadata": {},
     "output_type": "execute_result"
    },
    {
     "data": {
      "image/png": "[encoded data removed]",
      "text/plain": [
       "<Figure size 640x480 with 1 Axes>"
      ]
     },
     "metadata": {},
     "output_type": "display_data"
    }
   ],
   "source": [
    "def cal_likelihood(gamma, win_matrix, lose_matrix):\n",
    "    likelihood = 0\n",
    "    for i in range(len(player)):\n",
    "        for j in range(len(player)):\n",
    "            if i != j:\n",
    "                likelihood += win_matrix[i, j] * np.log(gamma[i] / (gamma[i] + gamma[j]))\n",
    "    return likelihood\n",
    "\n",
    "def Bradley_Terry(win_matrix, lose_matrix, player):\n",
    "    # 初始化参数\n",
    "    gamma = np.ones(len(player))\n",
    "    # 迭代次数\n",
    "    max_iter = 100\n",
    "    likelihood_list = []\n",
    "    # 迭代\n",
    "    for _ in range(max_iter):\n",
    "        # 更新参数\n",
    "        gamma_copy = gamma.copy()\n",
    "        for i in range(len(player)):\n",
    "            W = np.sum(win_matrix[i, :])\n",
    "            N = win_matrix[i, :] + lose_matrix[i, :]\n",
    "            gamma_sum = gamma[i] + gamma\n",
    "            sum_ = np.sum(N / gamma_sum)\n",
    "            gamma_copy[i] = W / sum_\n",
    "        gamma = gamma_copy\n",
    "        # 计算似然函数值\n",
    "        likelihood = cal_likelihood(gamma, win_matrix, lose_matrix)\n",
    "        likelihood_list.append(likelihood)\n",
    "    return gamma, likelihood_list\n",
    "\n",
    "gamma, likelihood_list = Bradley_Terry(win_matrix, lose_matrix, player)\n",
    "plt.plot(likelihood_list)"
   ]
  },
  {
   "cell_type": "code",
   "execution_count": null,
   "metadata": {},
   "outputs": [],
   "source": []
  }
 ],
 "metadata": {
  "kernelspec": {
   "display_name": "base",
   "language": "python",
   "name": "python3"
  },
  "language_info": {
   "codemirror_mode": {
    "name": "ipython",
    "version": 3
   },
   "file_extension": ".py",
   "mimetype": "text/x-python",
   "name": "python",
   "nbconvert_exporter": "python",
   "pygments_lexer": "ipython3",
   "version": "3.11.4"
  }
 },
 "nbformat": 4,
 "nbformat_minor": 2
}
