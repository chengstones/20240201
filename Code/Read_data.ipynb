{
 "cells": [
  {
   "cell_type": "code",
   "execution_count": 8,
   "metadata": {},
   "outputs": [],
   "source": [
    "import numpy as np\n",
    "import pandas as pd\n",
    "import matplotlib.pyplot as plt"
   ]
  },
  {
   "cell_type": "code",
   "execution_count": 9,
   "metadata": {},
   "outputs": [
    {
     "name": "stdout",
     "output_type": "stream",
     "text": [
      "              match_id         player1        player2 elapsed_time  set_no  \\\n",
      "0  2023-wimbledon-1301  Carlos Alcaraz  Nicolas Jarry     00:00:00       1   \n",
      "1  2023-wimbledon-1301  Carlos Alcaraz  Nicolas Jarry     00:00:38       1   \n",
      "2  2023-wimbledon-1301  Carlos Alcaraz  Nicolas Jarry     00:01:01       1   \n",
      "3  2023-wimbledon-1301  Carlos Alcaraz  Nicolas Jarry     00:01:31       1   \n",
      "4  2023-wimbledon-1301  Carlos Alcaraz  Nicolas Jarry     00:02:21       1   \n",
      "\n",
      "   game_no  point_no  p1_sets  p2_sets  p1_games  ...  p2_break_pt_won  \\\n",
      "0        1         1        0        0         0  ...                0   \n",
      "1        1         2        0        0         0  ...                0   \n",
      "2        1         3        0        0         0  ...                0   \n",
      "3        1         4        0        0         0  ...                0   \n",
      "4        1         5        0        0         0  ...                0   \n",
      "\n",
      "  p1_break_pt_missed p2_break_pt_missed  p1_distance_run  p2_distance_run  \\\n",
      "0                  0                  0            6.000            7.840   \n",
      "1                  0                  0            5.253            7.094   \n",
      "2                  0                  0           13.800           19.808   \n",
      "3                  0                  0           51.108           75.631   \n",
      "4                  0                  0            0.649            0.813   \n",
      "\n",
      "   rally_count  speed_mph  serve_width  serve_depth  return_depth  \n",
      "0            2       95.0           BC         NCTL            ND  \n",
      "1            1      118.0            B          CTL            ND  \n",
      "2            4      120.0            B         NCTL             D  \n",
      "3           13      130.0           BW          CTL             D  \n",
      "4            1      112.0            W         NCTL           NaN  \n",
      "\n",
      "[5 rows x 46 columns]\n"
     ]
    }
   ],
   "source": [
    "data_path = r'C:\\Users\\cheng\\Desktop\\20240201\\Question\\Wimbledon_featured_matches.csv'\n",
    "data = pd.read_csv(data_path)\n",
    "print(data.head())"
   ]
  },
  {
   "cell_type": "code",
   "execution_count": 10,
   "metadata": {},
   "outputs": [
    {
     "name": "stdout",
     "output_type": "stream",
     "text": [
      "match_id\n",
      "2023-wimbledon-1301    300\n",
      "2023-wimbledon-1302    201\n",
      "2023-wimbledon-1303    134\n",
      "2023-wimbledon-1304    337\n",
      "2023-wimbledon-1305    246\n",
      "2023-wimbledon-1306    332\n",
      "2023-wimbledon-1307    232\n",
      "2023-wimbledon-1308    190\n",
      "2023-wimbledon-1309    213\n",
      "2023-wimbledon-1310    318\n",
      "2023-wimbledon-1311    170\n",
      "2023-wimbledon-1312    275\n",
      "2023-wimbledon-1313    290\n",
      "2023-wimbledon-1314    185\n",
      "2023-wimbledon-1315    198\n",
      "2023-wimbledon-1316    167\n",
      "2023-wimbledon-1401    225\n",
      "2023-wimbledon-1402    274\n",
      "2023-wimbledon-1403    122\n",
      "2023-wimbledon-1404    286\n",
      "2023-wimbledon-1405    215\n",
      "2023-wimbledon-1406    195\n",
      "2023-wimbledon-1407    331\n",
      "2023-wimbledon-1408    271\n",
      "2023-wimbledon-1501    189\n",
      "2023-wimbledon-1502    283\n",
      "2023-wimbledon-1503    193\n",
      "2023-wimbledon-1504    217\n",
      "2023-wimbledon-1601    159\n",
      "2023-wimbledon-1602    202\n",
      "2023-wimbledon-1701    334\n",
      "dtype: int64\n"
     ]
    }
   ],
   "source": [
    "# 按match_id分组\n",
    "grouped = data.groupby('match_id')\n",
    "print(grouped.size())"
   ]
  },
  {
   "cell_type": "code",
   "execution_count": 14,
   "metadata": {},
   "outputs": [
    {
     "name": "stdout",
     "output_type": "stream",
     "text": [
      "                match_id         player1        player2 elapsed_time  set_no  \\\n",
      "0    2023-wimbledon-1301  Carlos Alcaraz  Nicolas Jarry     00:00:00       1   \n",
      "1    2023-wimbledon-1301  Carlos Alcaraz  Nicolas Jarry     00:00:38       1   \n",
      "2    2023-wimbledon-1301  Carlos Alcaraz  Nicolas Jarry     00:01:01       1   \n",
      "3    2023-wimbledon-1301  Carlos Alcaraz  Nicolas Jarry     00:01:31       1   \n",
      "4    2023-wimbledon-1301  Carlos Alcaraz  Nicolas Jarry     00:02:21       1   \n",
      "..                   ...             ...            ...          ...     ...   \n",
      "295  2023-wimbledon-1301  Carlos Alcaraz  Nicolas Jarry     03:53:25       4   \n",
      "296  2023-wimbledon-1301  Carlos Alcaraz  Nicolas Jarry     03:54:01       4   \n",
      "297  2023-wimbledon-1301  Carlos Alcaraz  Nicolas Jarry     03:55:02       4   \n",
      "298  2023-wimbledon-1301  Carlos Alcaraz  Nicolas Jarry     03:55:34       4   \n",
      "299  2023-wimbledon-1301  Carlos Alcaraz  Nicolas Jarry     03:56:11       4   \n",
      "\n",
      "     game_no  point_no  p1_sets  p2_sets  p1_games  ...  p2_break_pt_won  \\\n",
      "0          1         1        0        0         0  ...                0   \n",
      "1          1         2        0        0         0  ...                0   \n",
      "2          1         3        0        0         0  ...                0   \n",
      "3          1         4        0        0         0  ...                0   \n",
      "4          1         5        0        0         0  ...                0   \n",
      "..       ...       ...      ...      ...       ...  ...              ...   \n",
      "295       12       296        2        1         6  ...                0   \n",
      "296       12       297        2        1         6  ...                0   \n",
      "297       12       298        2        1         6  ...                0   \n",
      "298       12       299        2        1         6  ...                0   \n",
      "299       12       300        2        1         6  ...                0   \n",
      "\n",
      "    p1_break_pt_missed p2_break_pt_missed  p1_distance_run  p2_distance_run  \\\n",
      "0                    0                  0            6.000            7.840   \n",
      "1                    0                  0            5.253            7.094   \n",
      "2                    0                  0           13.800           19.808   \n",
      "3                    0                  0           51.108           75.631   \n",
      "4                    0                  0            0.649            0.813   \n",
      "..                 ...                ...              ...              ...   \n",
      "295                  0                  0           10.044            9.281   \n",
      "296                  0                  0           52.318           58.723   \n",
      "297                  0                  1            2.056            1.509   \n",
      "298                  0                  0           12.292           32.582   \n",
      "299                  0                  0            3.767            6.518   \n",
      "\n",
      "     rally_count  speed_mph  serve_width  serve_depth  return_depth  \n",
      "0              2       95.0           BC         NCTL            ND  \n",
      "1              1      118.0            B          CTL            ND  \n",
      "2              4      120.0            B         NCTL             D  \n",
      "3             13      130.0           BW          CTL             D  \n",
      "4              1      112.0            W         NCTL           NaN  \n",
      "..           ...        ...          ...          ...           ...  \n",
      "295            2      130.0           BW         NCTL            ND  \n",
      "296           14      113.0           BW         NCTL            ND  \n",
      "297            1      129.0            B         NCTL            ND  \n",
      "298            1      128.0            C         NCTL            ND  \n",
      "299            1      116.0           BW         NCTL            ND  \n",
      "\n",
      "[300 rows x 46 columns]\n"
     ]
    }
   ],
   "source": [
    "sample_match = grouped.get_group('2023-wimbledon-1301')\n",
    "print(sample_match)"
   ]
  },
  {
   "cell_type": "code",
   "execution_count": 38,
   "metadata": {},
   "outputs": [],
   "source": [
    "def analyse_match(match):\n",
    "    match_id = match['match_id']\n",
    "    player1 = match['player1']\n",
    "    player2 = match['player2']\n",
    "    # point_victor,winner of the point,\"1 if player 1 wins, 2 if player 2 wins\"\n",
    "    # 统计单盘比赛中每个球员的得分情况\n",
    "    set_grouped = match.groupby('set_no')\n",
    "    res_dict = {'player1_score':[], 'player2_score':[], 'player1_win_double_count':[], 'player2_win_double_count':[], 'player1_loss_after_win':[], 'player2_loss_after_win':[]}\n",
    "    for set_no, set_data in set_grouped:\n",
    "        player1_score = 0\n",
    "        player2_score = 0\n",
    "        # 统计 player 连赢两盘的次数\n",
    "        player1_win_double_count = 0\n",
    "        player2_win_double_count = 0\n",
    "        # 统计 player 连赢一盘后输掉下一盘的次数\\\n",
    "        player1_loss_after_win = 0\n",
    "        player2_loss_after_win = 0\n",
    "        flag = -1\n",
    "        for index, row in set_data.iterrows():\n",
    "            point_victor = row['point_victor']\n",
    "            if point_victor == 1:\n",
    "                player1_score += 1\n",
    "                player1_win_double_count += (flag == 1)\n",
    "                player2_loss_after_win += (flag == 2)\n",
    "            else:\n",
    "                player2_score += 1\n",
    "                player2_win_double_count += (flag == 2)\n",
    "                player1_loss_after_win += (flag == 1)\n",
    "            flag = point_victor\n",
    "        res_dict['player1_score'].append(player1_score)\n",
    "        res_dict['player2_score'].append(player2_score)\n",
    "        res_dict['player1_win_double_count'].append(player1_win_double_count)\n",
    "        res_dict['player2_win_double_count'].append(player2_win_double_count)\n",
    "        res_dict['player1_loss_after_win'].append(player1_loss_after_win)\n",
    "        res_dict['player2_loss_after_win'].append(player2_loss_after_win)\n",
    "    # print(res_dict)\n",
    "    return res_dict\n",
    "res_dict = analyse_match(sample_match)"
   ]
  },
  {
   "cell_type": "code",
   "execution_count": 39,
   "metadata": {},
   "outputs": [],
   "source": [
    "# 卡方检验\n",
    "def chi_square_test(res_dict):\n",
    "    player1_score = res_dict['player1_score']\n",
    "    player1_loss = res_dict['player2_score']\n",
    "    player1_win_double_count = res_dict['player1_win_double_count']\n",
    "    player1_loss_after_win = res_dict['player1_loss_after_win']\n",
    "    # print(player1_score)\n",
    "\n",
    "    # 卡方检验\n",
    "    a = sum(player1_score) \n",
    "    b = sum(player1_win_double_count)\n",
    "    c = sum(player1_loss)\n",
    "    d = sum(player1_loss_after_win)\n",
    "    chi_square_score = (a*d-b*c)**2*(a+b+c+d)/(a+b)/(c+d)/(a+c)/(b+d)\n",
    "    # print(chi_square_score)\n",
    "    return chi_square_score\n",
    "chi_square_score = chi_square_test(res_dict)"
   ]
  },
  {
   "cell_type": "code",
   "execution_count": 41,
   "metadata": {},
   "outputs": [
    {
     "name": "stdout",
     "output_type": "stream",
     "text": [
      "[0.045489788006773994, 0.28398065995756905, 0.15095413743360245, 0.626537957848038, 0.018085821595030156, 0.6056275698500139, 1.5607440571727855, 0.8693503507697596, 0.005189869374980039, 1.3487253113481688, 0.9317208489752606, 0.0713344464676952, 0.001010642459877429, 0.24904396582323413, 0.5377462812620359, 0.1132486649132885, 0.13606481987458466, 0.1769526262789706, 0.15295564842090237, 0.9430987475362841, 0.3086385555079652, 1.4558592939456927, 0.7986381027690602, 3.6269255391907365, 0.5382405620079384, 0.46629861551284363, 1.7292861180531016, 2.2690570795126328e-05, 0.20895149651704195, 0.19531404579306852, 5.81841539432847e-07]\n",
      "{'player1_score': [34, 44, 34, 46, 22, 34, 43, 20, 18, 13, 26, 34, 32, 29, 48, 27, 32, 34, 36, 29, 36, 36, 47, 28, 41, 36, 46, 26, 42, 22, 25, 27, 24, 39, 34, 41, 39, 23, 26, 34, 25, 8, 36, 32, 41, 38, 32, 44, 49, 30, 34, 28, 45, 38, 27, 27, 20, 13, 37, 27, 31, 35, 29, 40, 37, 37, 20, 34, 36, 19, 36, 16, 30, 36, 44, 45, 31, 21, 33, 29, 27, 39, 31, 39, 34, 30, 35, 39, 34, 21, 45, 27, 31, 36, 16, 23, 42, 33, 29, 19, 31, 29, 32, 13, 33, 18, 31, 29, 31, 25, 31, 40, 16, 50, 41, 28, 33], 'player2_score': [29, 48, 23, 42, 29, 33, 40, 29, 27, 27, 30, 25, 28, 35, 50, 34, 24, 28, 31, 19, 32, 35, 53, 17, 41, 32, 36, 34, 41, 25, 31, 16, 19, 32, 22, 48, 41, 30, 14, 46, 33, 24, 41, 24, 33, 30, 23, 47, 44, 21, 30, 15, 33, 41, 30, 35, 31, 29, 37, 30, 22, 30, 21, 34, 42, 38, 26, 31, 21, 27, 40, 27, 24, 31, 40, 36, 19, 30, 25, 11, 19, 33, 22, 44, 36, 23, 40, 44, 25, 33, 41, 23, 22, 28, 27, 27, 32, 19, 23, 26, 17, 19, 30, 28, 37, 26, 21, 23, 24, 29, 35, 42, 29, 44, 29, 36, 28], 'player1_win_double_count': [15, 25, 18, 22, 8, 18, 26, 8, 9, 4, 13, 23, 17, 12, 25, 11, 18, 19, 19, 17, 23, 20, 23, 15, 22, 22, 28, 10, 24, 14, 9, 15, 16, 20, 21, 22, 21, 11, 16, 19, 11, 1, 12, 16, 23, 24, 19, 21, 26, 15, 17, 15, 25, 20, 15, 12, 9, 3, 19, 13, 18, 20, 16, 19, 18, 21, 10, 19, 22, 8, 18, 8, 19, 18, 26, 24, 19, 11, 22, 20, 15, 19, 20, 19, 22, 16, 21, 21, 21, 11, 26, 15, 18, 18, 7, 14, 24, 20, 19, 12, 20, 16, 15, 3, 15, 9, 18, 18, 17, 12, 13, 18, 6, 28, 22, 10, 17], 'player2_win_double_count': [10, 28, 8, 19, 15, 17, 22, 17, 17, 17, 17, 14, 13, 17, 27, 18, 10, 14, 15, 7, 20, 19, 28, 5, 23, 18, 19, 17, 22, 17, 15, 5, 11, 13, 9, 28, 23, 18, 5, 30, 19, 16, 16, 8, 15, 17, 11, 23, 22, 7, 14, 3, 14, 22, 18, 19, 19, 19, 18, 16, 10, 16, 8, 14, 22, 21, 15, 16, 8, 16, 22, 18, 13, 14, 22, 16, 8, 19, 14, 3, 8, 13, 11, 24, 24, 9, 26, 26, 13, 23, 23, 12, 9, 10, 17, 18, 15, 7, 13, 18, 7, 7, 13, 17, 19, 17, 9, 12, 11, 15, 17, 20, 18, 23, 11, 17, 12], 'player1_loss_after_win': [18, 19, 15, 23, 14, 16, 17, 12, 9, 9, 13, 10, 14, 17, 23, 16, 13, 14, 16, 11, 12, 16, 24, 12, 18, 13, 17, 16, 18, 8, 16, 11, 7, 18, 12, 19, 17, 12, 9, 15, 14, 7, 24, 15, 17, 13, 12, 23, 22, 14, 16, 12, 19, 18, 12, 15, 11, 10, 18, 14, 12, 14, 12, 20, 19, 16, 10, 14, 13, 11, 17, 8, 10, 17, 17, 20, 11, 10, 10, 8, 11, 19, 10, 20, 12, 13, 14, 18, 12, 10, 18, 11, 12, 17, 9, 9, 17, 12, 9, 7, 10, 12, 16, 10, 18, 9, 12, 10, 13, 13, 18, 22, 10, 21, 18, 18, 15], 'player2_loss_after_win': [19, 19, 15, 23, 13, 15, 17, 11, 9, 9, 12, 11, 15, 17, 22, 15, 14, 14, 16, 12, 12, 15, 24, 12, 18, 14, 17, 16, 18, 7, 15, 11, 8, 19, 13, 19, 18, 11, 9, 15, 13, 7, 24, 16, 18, 13, 12, 23, 22, 14, 16, 12, 19, 18, 11, 15, 11, 9, 18, 13, 12, 14, 13, 20, 19, 16, 10, 15, 13, 10, 18, 8, 11, 17, 18, 20, 11, 10, 11, 8, 11, 20, 11, 19, 11, 14, 13, 17, 12, 9, 18, 11, 13, 18, 9, 8, 17, 12, 10, 7, 10, 12, 17, 10, 17, 8, 12, 11, 13, 13, 17, 21, 10, 21, 18, 18, 16]}\n",
      "10.49482022982698\n"
     ]
    }
   ],
   "source": [
    "# 穷举所有的比赛\n",
    "chi_square_score_list = []\n",
    "for match_id, match in grouped:\n",
    "    res_dict = analyse_match(match)\n",
    "    chi_square_score = chi_square_test(res_dict)\n",
    "    chi_square_score_list.append(chi_square_score)\n",
    "print(chi_square_score_list)\n",
    "# 穷举所有比赛的结果求和\n",
    "match_all = {'player1_score':[], 'player2_score':[], 'player1_win_double_count':[], 'player2_win_double_count':[], 'player1_loss_after_win':[], 'player2_loss_after_win':[]}\n",
    "for match_id, match in grouped:\n",
    "    res_dict = analyse_match(match)\n",
    "    for key in match_all.keys():\n",
    "        match_all[key].extend(res_dict[key])\n",
    "print(match_all)\n",
    "chi_square_score_all = chi_square_test(match_all)\n",
    "print(chi_square_score_all)\n"
   ]
  },
  {
   "cell_type": "code",
   "execution_count": null,
   "metadata": {},
   "outputs": [],
   "source": []
  }
 ],
 "metadata": {
  "kernelspec": {
   "display_name": "base",
   "language": "python",
   "name": "python3"
  },
  "language_info": {
   "codemirror_mode": {
    "name": "ipython",
    "version": 3
   },
   "file_extension": ".py",
   "mimetype": "text/x-python",
   "name": "python",
   "nbconvert_exporter": "python",
   "pygments_lexer": "ipython3",
   "version": "3.11.4"
  }
 },
 "nbformat": 4,
 "nbformat_minor": 2
}
